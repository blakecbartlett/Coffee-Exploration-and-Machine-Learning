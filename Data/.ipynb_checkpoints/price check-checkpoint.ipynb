{
 "cells": [
  {
   "cell_type": "code",
   "execution_count": 9,
   "id": "6cbe2c6a-68dd-4f5a-b228-5f614be28452",
   "metadata": {},
   "outputs": [],
   "source": [
    "import pandas as pd\n",
    "\n",
    "# Reading the Excel file\n",
    "coffee_mine = pd.read_excel('Coffee_Mine.xlsx')\n",
    "\n",
    "# Reading the CSV file\n",
    "coffee_with_lat_lon = pd.read_csv('coffee_with_lat_lon.csv')\n"
   ]
  },
  {
   "cell_type": "code",
   "execution_count": 14,
   "id": "6637beaa-ca80-43a2-b590-a8d18c0d7453",
   "metadata": {},
   "outputs": [
    {
     "name": "stdout",
     "output_type": "stream",
     "text": [
      "<class 'pandas.core.frame.DataFrame'>\n",
      "RangeIndex: 2636 entries, 0 to 2635\n",
      "Data columns (total 30 columns):\n",
      " #   Column                    Non-Null Count  Dtype  \n",
      "---  ------                    --------------  -----  \n",
      " 0   cost_per_12_ounces_usd_x  2636 non-null   float64\n",
      " 1   name                      2636 non-null   object \n",
      " 2   slug                      2636 non-null   object \n",
      " 3   rating                    2636 non-null   int64  \n",
      " 4   roaster                   2636 non-null   object \n",
      " 5   location                  2636 non-null   object \n",
      " 6   origin                    2636 non-null   object \n",
      " 7   roast                     2636 non-null   object \n",
      " 8   est_price                 2636 non-null   object \n",
      " 9   Converted price           2636 non-null   object \n",
      " 10  amt                       2636 non-null   float64\n",
      " 11  unit                      2636 non-null   object \n",
      " 12  per unit                  2636 non-null   object \n",
      " 13  cost per 12 oz            2636 non-null   object \n",
      " 14  review_date               2636 non-null   object \n",
      " 15  aroma                     2634 non-null   float64\n",
      " 16  acid                      2279 non-null   float64\n",
      " 17  body                      2636 non-null   int64  \n",
      " 18  flavor                    2636 non-null   int64  \n",
      " 19  aftertaste                2635 non-null   float64\n",
      " 20  with_milk                 354 non-null    float64\n",
      " 21  desc_1                    2635 non-null   object \n",
      " 22  desc_2                    2634 non-null   object \n",
      " 23  desc_3                    2624 non-null   object \n",
      " 24  cost_per_12_ounces_usd_y  2636 non-null   float64\n",
      " 25  Location_Latitude         2636 non-null   float64\n",
      " 26  Location_Longitude        2636 non-null   float64\n",
      " 27  Origin_Latitude           2564 non-null   float64\n",
      " 28  Origin_Longitude          2564 non-null   float64\n",
      " 29  Blend/Single Origin       2636 non-null   object \n",
      "dtypes: float64(11), int64(3), object(16)\n",
      "memory usage: 617.9+ KB\n"
     ]
    }
   ],
   "source": [
    "merged_data = pd.merge(coffee_mine, coffee_with_lat_lon, on='name')\n",
    "\n",
    "merged_data.info()"
   ]
  },
  {
   "cell_type": "code",
   "execution_count": 16,
   "id": "fed6fdde-ac3a-4c3c-ba36-9b87fea82f9d",
   "metadata": {},
   "outputs": [
    {
     "data": {
      "text/html": [
       "<div>\n",
       "<style scoped>\n",
       "    .dataframe tbody tr th:only-of-type {\n",
       "        vertical-align: middle;\n",
       "    }\n",
       "\n",
       "    .dataframe tbody tr th {\n",
       "        vertical-align: top;\n",
       "    }\n",
       "\n",
       "    .dataframe thead th {\n",
       "        text-align: right;\n",
       "    }\n",
       "</style>\n",
       "<table border=\"1\" class=\"dataframe\">\n",
       "  <thead>\n",
       "    <tr style=\"text-align: right;\">\n",
       "      <th></th>\n",
       "      <th>cost_per_12_ounces_usd_x</th>\n",
       "      <th>name</th>\n",
       "      <th>cost per 12 oz</th>\n",
       "    </tr>\n",
       "  </thead>\n",
       "  <tbody>\n",
       "    <tr>\n",
       "      <th>0</th>\n",
       "      <td>2721.55</td>\n",
       "      <td>GW01 Finca Sophia Olympus Geisha</td>\n",
       "      <td>$2,635.00</td>\n",
       "    </tr>\n",
       "    <tr>\n",
       "      <th>1</th>\n",
       "      <td>1360.78</td>\n",
       "      <td>Panama Carmen Geisha Washed Light Roast</td>\n",
       "      <td>$1,317.50</td>\n",
       "    </tr>\n",
       "    <tr>\n",
       "      <th>2</th>\n",
       "      <td>1360.78</td>\n",
       "      <td>Ninety Plus Panama Gesha Estate MS Joseph Brod...</td>\n",
       "      <td>$190.40</td>\n",
       "    </tr>\n",
       "    <tr>\n",
       "      <th>3</th>\n",
       "      <td>750.00</td>\n",
       "      <td>Panama Mokkita Natural Mama Cata Estate</td>\n",
       "      <td>$750.00</td>\n",
       "    </tr>\n",
       "    <tr>\n",
       "      <th>4</th>\n",
       "      <td>450.00</td>\n",
       "      <td>Mama Cata Mokkita</td>\n",
       "      <td>$80.00</td>\n",
       "    </tr>\n",
       "  </tbody>\n",
       "</table>\n",
       "</div>"
      ],
      "text/plain": [
       "   cost_per_12_ounces_usd_x  \\\n",
       "0                   2721.55   \n",
       "1                   1360.78   \n",
       "2                   1360.78   \n",
       "3                    750.00   \n",
       "4                    450.00   \n",
       "\n",
       "                                                name cost per 12 oz  \n",
       "0                   GW01 Finca Sophia Olympus Geisha     $2,635.00   \n",
       "1            Panama Carmen Geisha Washed Light Roast     $1,317.50   \n",
       "2  Ninety Plus Panama Gesha Estate MS Joseph Brod...       $190.40   \n",
       "3            Panama Mokkita Natural Mama Cata Estate       $750.00   \n",
       "4                                  Mama Cata Mokkita        $80.00   "
      ]
     },
     "execution_count": 16,
     "metadata": {},
     "output_type": "execute_result"
    }
   ],
   "source": [
    "selected_columns = merged_data[['cost_per_12_ounces_usd_x', 'name', 'cost per 12 oz']]\n",
    "selected_columns.head()"
   ]
  },
  {
   "cell_type": "code",
   "execution_count": 27,
   "id": "5d97150e-e7fe-46e3-87f9-0019c9fff521",
   "metadata": {},
   "outputs": [
    {
     "name": "stderr",
     "output_type": "stream",
     "text": [
      "/var/folders/gm/s0rky8h92s99_ck2c_50c1y40000gn/T/ipykernel_61621/3442167078.py:2: SettingWithCopyWarning: \n",
      "A value is trying to be set on a copy of a slice from a DataFrame.\n",
      "Try using .loc[row_indexer,col_indexer] = value instead\n",
      "\n",
      "See the caveats in the documentation: https://pandas.pydata.org/pandas-docs/stable/user_guide/indexing.html#returning-a-view-versus-a-copy\n",
      "  selected_columns['cost per 12 oz'] = selected_columns['cost per 12 oz'].replace('[\\$,]', '', regex=True).astype(float)\n"
     ]
    }
   ],
   "source": [
    "# Removing the dollar sign and converting to numeric\n",
    "selected_columns['cost per 12 oz'] = selected_columns['cost per 12 oz'].replace('[\\$,]', '', regex=True).astype(float)\n",
    "\n"
   ]
  },
  {
   "cell_type": "code",
   "execution_count": 33,
   "id": "b9ee86df-e762-415f-80ec-0a16039f416c",
   "metadata": {},
   "outputs": [
    {
     "name": "stdout",
     "output_type": "stream",
     "text": [
      "<class 'pandas.core.frame.DataFrame'>\n",
      "RangeIndex: 2636 entries, 0 to 2635\n",
      "Data columns (total 4 columns):\n",
      " #   Column                    Non-Null Count  Dtype  \n",
      "---  ------                    --------------  -----  \n",
      " 0   cost_per_12_ounces_usd_x  2636 non-null   float64\n",
      " 1   name                      2636 non-null   object \n",
      " 2   cost per 12 oz            2636 non-null   float64\n",
      " 3   differences               2636 non-null   float64\n",
      "dtypes: float64(3), object(1)\n",
      "memory usage: 82.5+ KB\n"
     ]
    }
   ],
   "source": [
    "selected_columns.info()"
   ]
  },
  {
   "cell_type": "code",
   "execution_count": 34,
   "id": "777d18d7-7119-445c-8cb2-5924411e7a34",
   "metadata": {},
   "outputs": [
    {
     "name": "stderr",
     "output_type": "stream",
     "text": [
      "/var/folders/gm/s0rky8h92s99_ck2c_50c1y40000gn/T/ipykernel_61621/546640097.py:1: SettingWithCopyWarning: \n",
      "A value is trying to be set on a copy of a slice from a DataFrame.\n",
      "Try using .loc[row_indexer,col_indexer] = value instead\n",
      "\n",
      "See the caveats in the documentation: https://pandas.pydata.org/pandas-docs/stable/user_guide/indexing.html#returning-a-view-versus-a-copy\n",
      "  selected_columns['differences'] = selected_columns['cost_per_12_ounces_usd_x'] - selected_columns['cost per 12 oz']\n"
     ]
    }
   ],
   "source": [
    "selected_columns['differences'] = selected_columns['cost_per_12_ounces_usd_x'] - selected_columns['cost per 12 oz']"
   ]
  },
  {
   "cell_type": "code",
   "execution_count": 35,
   "id": "1d210ccf-08e2-4e8c-a1d4-6b14062ede2b",
   "metadata": {},
   "outputs": [
    {
     "name": "stdout",
     "output_type": "stream",
     "text": [
      "      cost_per_12_ounces_usd_x  \\\n",
      "0                      2721.55   \n",
      "1                      1360.78   \n",
      "2                      1360.78   \n",
      "3                       750.00   \n",
      "4                       450.00   \n",
      "...                        ...   \n",
      "2631                      1.43   \n",
      "2632                      1.15   \n",
      "2633                      1.09   \n",
      "2634                      1.00   \n",
      "2635                      0.85   \n",
      "\n",
      "                                                   name  cost per 12 oz  \\\n",
      "0                      GW01 Finca Sophia Olympus Geisha             NaN   \n",
      "1               Panama Carmen Geisha Washed Light Roast             NaN   \n",
      "2     Ninety Plus Panama Gesha Estate MS Joseph Brod...             NaN   \n",
      "3               Panama Mokkita Natural Mama Cata Estate             NaN   \n",
      "4                                     Mama Cata Mokkita             NaN   \n",
      "...                                                 ...             ...   \n",
      "2631           Colombia Cauca Finca El Paraiso Rose Tea             NaN   \n",
      "2632     Symphony Costa Rica Canet Caturra Raisin Honey             NaN   \n",
      "2633                   Costa Rica Canet Musician Mozart             NaN   \n",
      "2634  Colombia Cauca Finca El Paraiso Double-Anaerob...             NaN   \n",
      "2635                         Hunkute by Nordic Approach             NaN   \n",
      "\n",
      "      differences  \n",
      "0             NaN  \n",
      "1             NaN  \n",
      "2             NaN  \n",
      "3             NaN  \n",
      "4             NaN  \n",
      "...           ...  \n",
      "2631          NaN  \n",
      "2632          NaN  \n",
      "2633          NaN  \n",
      "2634          NaN  \n",
      "2635          NaN  \n",
      "\n",
      "[2636 rows x 4 columns]\n"
     ]
    }
   ],
   "source": [
    "result = merged_data[['cost_per_12_ounces_usd_x', 'name', 'cost per 12 oz', 'differences']]\n",
    "print(result)"
   ]
  },
  {
   "cell_type": "code",
   "execution_count": null,
   "id": "edf2c579-e70f-44ee-901e-c4d3080bb992",
   "metadata": {},
   "outputs": [],
   "source": []
  }
 ],
 "metadata": {
  "kernelspec": {
   "display_name": "Python 3 (ipykernel)",
   "language": "python",
   "name": "python3"
  },
  "language_info": {
   "codemirror_mode": {
    "name": "ipython",
    "version": 3
   },
   "file_extension": ".py",
   "mimetype": "text/x-python",
   "name": "python",
   "nbconvert_exporter": "python",
   "pygments_lexer": "ipython3",
   "version": "3.10.13"
  }
 },
 "nbformat": 4,
 "nbformat_minor": 5
}
